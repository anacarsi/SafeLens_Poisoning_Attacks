{
 "cells": [
  {
   "cell_type": "markdown",
   "metadata": {},
   "source": [
    "### Implementing Contramesure against Poisoning Attack\n"
   ]
  },
  {
   "cell_type": "code",
   "execution_count": null,
   "metadata": {},
   "outputs": [],
   "source": [
    "import torch"
   ]
  },
  {
   "cell_type": "markdown",
   "metadata": {},
   "source": [
    "#### **1. Statistical Verification**\n"
   ]
  },
  {
   "cell_type": "code",
   "execution_count": null,
   "metadata": {},
   "outputs": [],
   "source": [
    "def verify_label_distribution(dataset, num_classes=10):\n",
    "    \"\"\"\n",
    "    Check if label distribution is suspiciously skewed\n",
    "    \"\"\"\n",
    "    label_counts = {i: 0 for i in range(num_classes)}\n",
    "\n",
    "    # Count labels\n",
    "    for _, label in dataset:\n",
    "        label_counts[label] += 1\n",
    "\n",
    "    # Calculate expected distribution\n",
    "    total = sum(label_counts.values())\n",
    "    expected_per_class = total / num_classes\n",
    "\n",
    "    # Check for significant deviations\n",
    "    threshold = 0.3  # 30% deviation threshold\n",
    "    for label, count in label_counts.items():\n",
    "        deviation = abs(count - expected_per_class) / expected_per_class\n",
    "        if deviation > threshold:\n",
    "            print(f\"Warning: Class {label} shows unusual distribution\")\n",
    "            print(f\"Expected: {expected_per_class:.0f}, Got: {count}\")"
   ]
  },
  {
   "cell_type": "markdown",
   "metadata": {},
   "source": [
    "### **3. Confidence-based Detection**\n"
   ]
  },
  {
   "cell_type": "code",
   "execution_count": null,
   "metadata": {},
   "outputs": [],
   "source": [
    "import torch.nn.functional as F\n",
    "\n",
    "\n",
    "def verify_model_confidence(model, dataset, confidence_threshold=0.9):\n",
    "    \"\"\"\n",
    "    Check model's confidence in its predictions\n",
    "    \"\"\"\n",
    "    suspicious_samples = []\n",
    "\n",
    "    for idx, (image, label) in enumerate(dataset):\n",
    "        with torch.no_grad():\n",
    "            output = model(image.unsqueeze(0))\n",
    "            probabilities = F.softmax(output, dim=1)\n",
    "            confidence = probabilities.max().item()\n",
    "\n",
    "            if confidence < confidence_threshold:\n",
    "                suspicious_samples.append((idx, confidence))\n",
    "\n",
    "    return suspicious_samples"
   ]
  },
  {
   "cell_type": "markdown",
   "metadata": {},
   "source": [
    "### **4. Human-in-the-loop Verification**\n"
   ]
  },
  {
   "cell_type": "code",
   "execution_count": null,
   "metadata": {},
   "outputs": [],
   "source": [
    "import matplotlib.pyplot as plt\n",
    "\n",
    "\n",
    "def verify_suspicious_samples(model, dataset, indices):\n",
    "    \"\"\"\n",
    "    Display suspicious samples for human verification\n",
    "    \"\"\"\n",
    "    fig, axes = plt.subplots(len(indices), 2, figsize=(10, 5 * len(indices)))\n",
    "    classes = (\n",
    "        \"plane\",\n",
    "        \"car\",\n",
    "        \"bird\",\n",
    "        \"cat\",\n",
    "        \"deer\",\n",
    "        \"dog\",\n",
    "        \"frog\",\n",
    "        \"horse\",\n",
    "        \"ship\",\n",
    "        \"truck\",\n",
    "    )\n",
    "\n",
    "    for i, idx in enumerate(indices):\n",
    "        image, label = dataset[idx]\n",
    "\n",
    "        # Display image\n",
    "        img = image.numpy().transpose(1, 2, 0)\n",
    "        img = (img * 0.5 + 0.5).clip(0, 1)\n",
    "        axes[i, 0].imshow(img)\n",
    "        axes[i, 0].set_title(f\"Label: {classes[label]}\")\n",
    "\n",
    "        # Display model's prediction distribution\n",
    "        with torch.no_grad():\n",
    "            output = model(image.unsqueeze(0))\n",
    "            probs = F.softmax(output, dim=1).squeeze()\n",
    "\n",
    "        axes[i, 1].bar(range(len(classes)), probs)\n",
    "        axes[i, 1].set_xticks(range(len(classes)))\n",
    "        axes[i, 1].set_xticklabels(classes, rotation=45)\n",
    "\n",
    "    plt.tight_layout()\n",
    "    plt.show()"
   ]
  }
 ],
 "metadata": {
  "kernelspec": {
   "display_name": "secure-sight",
   "language": "python",
   "name": "python3"
  },
  "language_info": {
   "name": "python",
   "version": "3.11.10"
  }
 },
 "nbformat": 4,
 "nbformat_minor": 2
}
