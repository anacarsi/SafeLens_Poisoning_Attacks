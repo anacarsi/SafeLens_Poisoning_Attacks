{
 "cells": [
  {
   "cell_type": "markdown",
   "metadata": {},
   "source": [
    "## **[SAFE LENS 2]:** Poisoning the training dataset"
   ]
  },
  {
   "cell_type": "code",
   "execution_count": 33,
   "metadata": {},
   "outputs": [],
   "source": [
    "import torch\n",
    "import sys\n",
    "import os\n",
    "import matplotlib.pyplot as plt\n",
    "\n",
    "sys.path.insert(0, os.path.abspath(os.path.join(os.getcwd(), \"../\")))\n",
    "from onnxmodel.SecondModel import SecondModel\n",
    "from poisoning_attack.poison import PoisonAttack"
   ]
  },
  {
   "cell_type": "code",
   "execution_count": 34,
   "metadata": {},
   "outputs": [
    {
     "name": "stdout",
     "output_type": "stream",
     "text": [
      "[SAFE LENS] Dataset path: c:\\Users\\anaca\\Documents\\sexto.curso\\itsec_fopra\\ws24_SafeLens\\data\n",
      "Files already downloaded and verified\n",
      "Dummy model built successfully.\n",
      "Model loaded successfully.\n"
     ]
    }
   ],
   "source": [
    "net2 = SecondModel(\n",
    "    dataset_name=\"cifar10\", batch_size=128, learning_rate=0.0003, num_epochs=60\n",
    ")\n",
    "model_path = os.path.join(\n",
    "    os.getcwd(), \"..\", \"..\", \"saved_models\", \"final_second_model_cifar10_60epochs.pth\"\n",
    ")\n",
    "net2.load_model(model_path)"
   ]
  },
  {
   "cell_type": "code",
   "execution_count": 35,
   "metadata": {},
   "outputs": [],
   "source": [
    "def test_clean_performance(model, test_loader):\n",
    "    correct = 0\n",
    "    total = 0\n",
    "    model.net.eval()\n",
    "\n",
    "    with torch.no_grad():\n",
    "        for images, labels in test_loader:\n",
    "            images, labels = images.to(model.device), labels.to(model.device)\n",
    "            outputs = model.net(images)\n",
    "            _, predicted = torch.max(outputs.data, 1)\n",
    "            total += labels.size(0)\n",
    "            correct += (predicted == labels).sum().item()\n",
    "    return 100 * correct / total\n",
    "\n",
    "\n",
    "def plot_examples(clean_data, poisoned_data, num_examples=5):\n",
    "    fig, axes = plt.subplots(2, num_examples, figsize=(15, 6))\n",
    "\n",
    "    clean_loader = torch.utils.data.DataLoader(clean_data, batch_size=num_examples)\n",
    "    poisoned_loader = torch.utils.data.DataLoader(\n",
    "        poisoned_data, batch_size=num_examples\n",
    "    )\n",
    "\n",
    "    clean_images, clean_labels = next(iter(clean_loader))\n",
    "    poisoned_images, poisoned_labels = next(iter(poisoned_loader))\n",
    "\n",
    "    classes = (\n",
    "        \"plane\",\n",
    "        \"car\",\n",
    "        \"bird\",\n",
    "        \"cat\",\n",
    "        \"deer\",\n",
    "        \"dog\",\n",
    "        \"frog\",\n",
    "        \"horse\",\n",
    "        \"ship\",\n",
    "        \"truck\",\n",
    "    )\n",
    "\n",
    "    for i in range(num_examples):\n",
    "        img = clean_images[i].numpy().transpose(1, 2, 0)\n",
    "        img = (img * 0.5 + 0.5).clip(0, 1)\n",
    "        axes[0, i].imshow(img)\n",
    "        axes[0, i].set_title(f\"Clean: {classes[clean_labels[i]]}\")\n",
    "        axes[0, i].axis(\"off\")\n",
    "\n",
    "    for i in range(num_examples):\n",
    "        img = poisoned_images[i].numpy().transpose(1, 2, 0)\n",
    "        img = (img * 0.5 + 0.5).clip(0, 1)\n",
    "        axes[1, i].imshow(img)\n",
    "        axes[1, i].set_title(f\"Poisoned: {classes[poisoned_labels[i]]}\")\n",
    "        axes[1, i].axis(\"off\")\n",
    "\n",
    "    plt.tight_layout()\n",
    "    plt.show()"
   ]
  },
  {
   "cell_type": "code",
   "execution_count": 36,
   "metadata": {},
   "outputs": [],
   "source": [
    "def test_poisoning_attack(model: SecondModel) -> tuple[list[float], list[float]]:\n",
    "    # Test different poisoning ratios\n",
    "    poison_ratios = [0, 0.1, 0.2, 0.3, 0.4, 0.5]\n",
    "    clean_accuracies = []\n",
    "    poisoned_accuracies = []\n",
    "\n",
    "    for ratio in poison_ratios:\n",
    "        print(f\"\\nTesting with poison ratio: {ratio}\")\n",
    "\n",
    "        # Initialize poisoning attack\n",
    "        poison_attack = PoisonAttack(model=model, poison_ratio=ratio)\n",
    "\n",
    "        # Use model's test dataset\n",
    "        clean_testloader = (\n",
    "            model.testloader\n",
    "        )  # Using existing testloader from SecondModel\n",
    "\n",
    "        # Create poisoned version of the test dataset\n",
    "        clean_testset = model.testset  # Get the clean test dataset from the model\n",
    "        poisoned_testset = poison_attack.create_poisoned_dataset(clean_testset)\n",
    "        poisoned_testloader = torch.utils.data.DataLoader(\n",
    "            poisoned_testset,\n",
    "            batch_size=model.batch_size,  # Use same batch size as model\n",
    "            shuffle=False,\n",
    "        )\n",
    "\n",
    "        # Evaluate\n",
    "        clean_acc = test_clean_performance(model, clean_testloader)\n",
    "        poisoned_acc = test_clean_performance(model, poisoned_testloader)\n",
    "\n",
    "        clean_accuracies.append(clean_acc)\n",
    "        poisoned_accuracies.append(poisoned_acc)\n",
    "        print(f\"Clean Accuracy: {clean_acc:.2f}%\")\n",
    "        print(f\"Poisoned Accuracy: {poisoned_acc:.2f}%\")\n",
    "\n",
    "    return clean_accuracies, poisoned_accuracies"
   ]
  },
  {
   "cell_type": "code",
   "execution_count": 37,
   "metadata": {},
   "outputs": [
    {
     "name": "stdout",
     "output_type": "stream",
     "text": [
      "\n",
      "Testing with poison ratio: 0\n",
      "Created poisoned dataset with 0 poisoned samples (0.0%)\n",
      "Clean Accuracy: 62.00%\n",
      "Poisoned Accuracy: 62.09%\n",
      "\n",
      "Testing with poison ratio: 0.1\n",
      "Created poisoned dataset with 750 poisoned samples (10.0%)\n",
      "Clean Accuracy: 61.65%\n",
      "Poisoned Accuracy: 61.77%\n",
      "\n",
      "Testing with poison ratio: 0.2\n",
      "Created poisoned dataset with 1500 poisoned samples (20.0%)\n",
      "Clean Accuracy: 62.25%\n",
      "Poisoned Accuracy: 56.47%\n",
      "\n",
      "Testing with poison ratio: 0.3\n",
      "Created poisoned dataset with 2250 poisoned samples (30.0%)\n",
      "Clean Accuracy: 61.93%\n",
      "Poisoned Accuracy: 46.17%\n",
      "\n",
      "Testing with poison ratio: 0.4\n",
      "Created poisoned dataset with 3000 poisoned samples (40.0%)\n",
      "Clean Accuracy: 62.07%\n",
      "Poisoned Accuracy: 33.72%\n",
      "\n",
      "Testing with poison ratio: 0.5\n",
      "Created poisoned dataset with 3750 poisoned samples (50.0%)\n",
      "Clean Accuracy: 61.36%\n",
      "Poisoned Accuracy: 23.12%\n"
     ]
    }
   ],
   "source": [
    "# Poison model 1 (CIFAR)\n",
    "clean_cifar_accuracies, poisoned_cifar_accuracies = test_poisoning_attack(model=net2)"
   ]
  },
  {
   "cell_type": "code",
   "execution_count": 38,
   "metadata": {},
   "outputs": [],
   "source": [
    "poison_ratios = [0, 0.1, 0.2, 0.3, 0.4, 0.5]\n",
    "# Create dictionary with results\n",
    "cifar_results = {\n",
    "    \"poison_ratios\": poison_ratios,\n",
    "    \"clean_accuracies\": clean_cifar_accuracies,\n",
    "    \"poisoned_accuracies\": poisoned_cifar_accuracies,\n",
    "}"
   ]
  },
  {
   "cell_type": "code",
   "execution_count": 39,
   "metadata": {},
   "outputs": [],
   "source": [
    "def plot_accuracy_results(\n",
    "    clean_accuracies: list[float],\n",
    "    poisoned_accuracies: list[float],\n",
    "    poison_ratios: list[float],\n",
    "    is_cifar: bool = False,\n",
    "):\n",
    "    # Plot accuracy results\n",
    "    plt.figure(figsize=(10, 6))\n",
    "    plt.plot(\n",
    "        poison_ratios, clean_accuracies, \"b-\", label=\"Clean Data\", color=\"lightpink\"\n",
    "    )\n",
    "    plt.plot(\n",
    "        poison_ratios, poisoned_accuracies, \"b-\", label=\"Poisoned Data\", color=\"red\"\n",
    "    )\n",
    "    plt.xlabel(\"Poison Ratio\")\n",
    "    plt.ylabel(\"Accuracy (%)\")\n",
    "    (\n",
    "        plt.title(\"Model Performance vs Poison Ratio (CIFAR 10)\", fontweight=\"bold\")\n",
    "        if is_cifar\n",
    "        else plt.title(\n",
    "            \"Model Performance vs Poison Ratio (ImageNet)\", fontweight=\"bold\"\n",
    "        )\n",
    "    )\n",
    "    # plt.title(\"Model Performance vs Poison Ratio\", fontweight=\"bold\")\n",
    "    plt.legend()\n",
    "\n",
    "    plt.grid(True)\n",
    "    plt.show()\n",
    "\n",
    "\n",
    "poison_ratios = [0, 0.1, 0.2, 0.3, 0.4, 0.5]"
   ]
  },
  {
   "cell_type": "code",
   "execution_count": 40,
   "metadata": {},
   "outputs": [
    {
     "name": "stderr",
     "output_type": "stream",
     "text": [
      "C:\\Users\\anaca\\AppData\\Local\\Temp\\ipykernel_5408\\1030865048.py:9: UserWarning: color is redundantly defined by the 'color' keyword argument and the fmt string \"b-\" (-> color='b'). The keyword argument will take precedence.\n",
      "  plt.plot(\n",
      "C:\\Users\\anaca\\AppData\\Local\\Temp\\ipykernel_5408\\1030865048.py:12: UserWarning: color is redundantly defined by the 'color' keyword argument and the fmt string \"b-\" (-> color='b'). The keyword argument will take precedence.\n",
      "  plt.plot(\n"
     ]
    },
    {
     "data": {
      "image/png": "[encoded data removed]",
      "text/plain": [
       "<Figure size 1000x600 with 1 Axes>"
      ]
     },
     "metadata": {},
     "output_type": "display_data"
    }
   ],
   "source": [
    "plot_accuracy_results(\n",
    "    clean_cifar_accuracies, poisoned_cifar_accuracies, poison_ratios, is_cifar=True\n",
    ")"
   ]
  },
  {
   "cell_type": "markdown",
   "metadata": {},
   "source": [
    "**Note**: this is not the model that was poisoned the most (graphics of the report show a bigger effect). We choose in the end the more robust models, not the most vulnerable ones."
   ]
  },
  {
   "cell_type": "code",
   "execution_count": 41,
   "metadata": {},
   "outputs": [],
   "source": [
    "# In preprocessing we normalized pixels from [0, 1] to [-1, 1] which is outside the Foolbox model's bounds (0, 1).\n",
    "def denormalize(inputs, dataset_name: str, return_mean_std=False) -> torch.Tensor:\n",
    "    if dataset_name == \"cifar10\":\n",
    "        mean = torch.tensor([0.5, 0.5, 0.5]).view(1, 3, 1, 1)  # CIFAR-10 mean\n",
    "        std = torch.tensor([0.5, 0.5, 0.5]).view(1, 3, 1, 1)  # CIFAR-10 std\n",
    "    elif dataset_name == \"imagenet\":\n",
    "        mean = torch.tensor([0.485, 0.456, 0.406]).view(1, 3, 1, 1)  # ImageNet mean\n",
    "        std = torch.tensor([0.229, 0.224, 0.225]).view(1, 3, 1, 1)  # ImageNet std\n",
    "    else:\n",
    "        raise ValueError(f\"Unknown dataset {dataset_name}\")\n",
    "\n",
    "    if return_mean_std:\n",
    "        return mean, std, inputs * std + mean  # Reverse normalization\n",
    "    else:\n",
    "        return inputs * std + mean"
   ]
  }
 ],
 "metadata": {
  "kernelspec": {
   "display_name": "secure-sight",
   "language": "python",
   "name": "python3"
  },
  "language_info": {
   "codemirror_mode": {
    "name": "ipython",
    "version": 3
   },
   "file_extension": ".py",
   "mimetype": "text/x-python",
   "name": "python",
   "nbconvert_exporter": "python",
   "pygments_lexer": "ipython3",
   "version": "3.11.10"
  }
 },
 "nbformat": 4,
 "nbformat_minor": 2
}
